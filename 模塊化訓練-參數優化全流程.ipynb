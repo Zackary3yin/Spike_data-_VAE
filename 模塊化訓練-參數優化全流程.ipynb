{
 "cells": [
  {
   "cell_type": "code",
   "execution_count": 22,
   "id": "374e94b5",
   "metadata": {},
   "outputs": [],
   "source": [
    "import numpy as np\n",
    "import matplotlib.pyplot as plt\n",
    "import torch as torch\n",
    "import torch.nn as nn\n",
    "import torch.nn.functional as F\n",
    "from torch.utils.data import DataLoader, TensorDataset, random_split,Dataset\n",
    "from sklearn.metrics import r2_score\n",
    "from sklearn.model_selection import train_test_split\n",
    "from sklearn.preprocessing import MinMaxScaler\n",
    "import torch.optim as optim\n",
    "\n",
    "import pywt\n",
    "from scipy.signal import welch\n",
    "\n",
    "import os\n",
    "import pandas as pd\n",
    "\n",
    "from sklearn.svm import SVC\n",
    "from sklearn.metrics import accuracy_score, classification_report, confusion_matrix\n",
    "\n",
    "from tqdm import tqdm\n",
    "\n",
    "from xgboost import XGBClassifier\n",
    "# 設置設備\n",
    "device = torch.device(\"cuda\" if torch.cuda.is_available() else \"cpu\")"
   ]
  },
  {
   "cell_type": "code",
   "execution_count": 14,
   "id": "e233e089",
   "metadata": {},
   "outputs": [],
   "source": [
    "class EEGUtil:\n",
    "    @staticmethod\n",
    "    def load_data(file_path, column_name='spike hz'):\n",
    "        \"\"\"Load EEG data from a CSV file.\"\"\"\n",
    "        data = pd.read_csv(file_path)\n",
    "        signal = data[column_name].values\n",
    "        return signal\n",
    "\n",
    "    @staticmethod\n",
    "    def padding(signal, target_length):\n",
    "        \"\"\"Pad or truncate signal to the target length.\"\"\"\n",
    "        if len(signal) < target_length:\n",
    "            return np.pad(signal, (0, target_length - len(signal)), 'constant', constant_values=-1)\n",
    "        return signal[:target_length]\n",
    "\n",
    "    @staticmethod\n",
    "    def wavelet_transform(signal):\n",
    "        \"\"\"Perform Wavelet Transform and extract features.\"\"\"\n",
    "        coeffs = pywt.wavedec(signal, 'db4', level=5)\n",
    "        features = []\n",
    "        for i in range(1, len(coeffs)):\n",
    "            features.extend([np.mean(coeffs[i]), np.std(coeffs[i])])\n",
    "        return np.array(features)\n",
    "\n",
    "    @staticmethod\n",
    "    def psd_transform(signal, fs=0.2, nperseg=128):\n",
    "        \"\"\"Perform Power Spectral Density analysis and extract features.\"\"\"\n",
    "        freqs, psd = welch(signal, fs=fs, nperseg=nperseg)\n",
    "        return psd"
   ]
  },
  {
   "cell_type": "code",
   "execution_count": 15,
   "id": "40cdc11b",
   "metadata": {},
   "outputs": [],
   "source": [
    "class EEGDataset(Dataset):\n",
    "    def __init__(self, data_folder, outcome_file=None, target_length=600, strategy='padding', use_labels=False):\n",
    "        self.use_labels=use_labels\n",
    "        self.data_folder = data_folder\n",
    "        self.target_length = target_length\n",
    "        self.strategy = strategy\n",
    "        self.file_list = [f for f in os.listdir(data_folder) if f.endswith('.csv')]\n",
    "        \n",
    "        # Load outcomes if provided\n",
    "        self.outcome_dict = {}\n",
    "        if use_labels and outcome_file is not None:\n",
    "            self.outcome_data = pd.read_csv(outcome_file)\n",
    "            self.outcome_dict = self.outcome_data.set_index('pat_ID')['outcome'].to_dict()\n",
    "            # 仅保留有标签的文件\n",
    "            self.file_list = [f for f in self.file_list if f.split('.')[0] in self.outcome_dict]\n",
    "\n",
    "    def __len__(self):\n",
    "        return len(self.file_list)\n",
    "\n",
    "    def __getitem__(self, idx):\n",
    "        filename = self.file_list[idx]\n",
    "        patient_id = filename.split('.')[0]\n",
    "        file_path = os.path.join(self.data_folder, filename)\n",
    "        signal = EEGUtil.load_data(file_path, column_name='BCI')\n",
    "\n",
    "        # Process the signal\n",
    "        processed_signal = self.process_signal(signal)\n",
    "\n",
    "        # Get the label if available\n",
    "        label=-1\n",
    "        if self.use_labels :\n",
    "            label = self.get_label(patient_id)\n",
    "            \n",
    "        return torch.tensor(processed_signal, dtype=torch.float32).unsqueeze(0), label  # 增加通道维度\n",
    "\n",
    "    def process_signal(self, signal):\n",
    "        if self.strategy == 'padding':\n",
    "            return EEGUtil.padding(signal, self.target_length)\n",
    "        elif self.strategy == 'wavelet':\n",
    "            return EEGUtil.wavelet_transform(signal)\n",
    "        elif self.strategy == 'psd':\n",
    "            return EEGUtil.psd_transform(signal)\n",
    "        else:\n",
    "            raise ValueError(\"Invalid processing strategy\")\n",
    "\n",
    "    def get_label(self, patient_id):\n",
    "        if patient_id in self.outcome_dict:\n",
    "            outcome = self.outcome_dict[patient_id]\n",
    "            return 1 if outcome == 'Good Outcome' else 0"
   ]
  },
  {
   "cell_type": "code",
   "execution_count": 16,
   "id": "809a29fa",
   "metadata": {},
   "outputs": [],
   "source": [
    "initial_channels = 128\n",
    "class CNNEncoder(nn.Module):\n",
    "    def __init__(self, latent_dim, seq_length):\n",
    "        super(CNNEncoder, self).__init__()\n",
    "        self.latent_dim = latent_dim\n",
    "\n",
    "        layers = [\n",
    "            nn.Conv1d(1, initial_channels, kernel_size=3, stride=1, padding=1),\n",
    "            nn.LeakyReLU()\n",
    "        ]\n",
    "\n",
    "        in_channels = initial_channels\n",
    "        for i in range(3):  # 3 more layers to make 4 in total\n",
    "            out_channels = in_channels // 2\n",
    "            layers.extend([\n",
    "                nn.Conv1d(in_channels, out_channels, kernel_size=3, stride=1, padding=1),\n",
    "                nn.LeakyReLU()\n",
    "            ])\n",
    "            in_channels = out_channels\n",
    "\n",
    "        self.encoder = nn.Sequential(*layers)\n",
    "        self.fc_mean = nn.Linear(in_channels * seq_length, latent_dim)\n",
    "        self.fc_logvar = nn.Linear(in_channels * seq_length, latent_dim)\n",
    "\n",
    "    def forward(self, x):\n",
    "        x = self.encoder(x)\n",
    "        x = x.view(x.size(0), -1)\n",
    "        mean = self.fc_mean(x)\n",
    "        logvar = self.fc_logvar(x)\n",
    "        return mean, logvar\n",
    "\n",
    "class CNNDecoder(nn.Module):\n",
    "    def __init__(self, latent_dim, seq_length):\n",
    "        super(CNNDecoder, self).__init__()\n",
    "        self.seq_length=seq_length\n",
    "        self.latent_dim = latent_dim\n",
    "        self.fc = nn.Linear(latent_dim, initial_channels // 8 * seq_length)  # Match the output channel of the encoder\n",
    "\n",
    "        layers = [nn.LeakyReLU()]\n",
    "        in_channels = initial_channels // 8\n",
    "        for i in range(3):\n",
    "            out_channels = in_channels * 2\n",
    "            layers.extend([\n",
    "                nn.ConvTranspose1d(in_channels, out_channels, kernel_size=3, stride=1, padding=1),\n",
    "                nn.LeakyReLU()\n",
    "            ])\n",
    "            in_channels = out_channels\n",
    "        \n",
    "        # Remove the last LeakyReLU and add a final ConvTranspose to match the Encoder's starting channel\n",
    "        layers.pop()\n",
    "        layers.append(nn.ConvTranspose1d(in_channels, 1, kernel_size=3, stride=1, padding=1))\n",
    "\n",
    "        self.decoder = nn.Sequential(*layers)\n",
    "\n",
    "    def forward(self, z):\n",
    "        x = self.fc(z)\n",
    "        x = x.view(x.size(0), initial_channels // 8, self.seq_length)\n",
    "        x = self.decoder(x)\n",
    "        return F.leaky_relu(x)\n",
    "\n",
    "\n",
    "class VAE(nn.Module):\n",
    "    def __init__(self, latent_dim, seq_length):  # 接受 seq_length 作为参数\n",
    "        super(VAE, self).__init__()\n",
    "        self.seq_length=seq_length\n",
    "        self.latent_dim = latent_dim\n",
    "        self.encoder = CNNEncoder(latent_dim, seq_length)  # 将 seq_length 传递给 CNNEncoder\n",
    "        self.decoder = CNNDecoder(latent_dim, seq_length)  # 将 seq_length 传递给 CNNDecoder\n",
    "\n",
    "    def reparameterize(self, mean, logvar):\n",
    "        std = torch.exp(0.5 * logvar)\n",
    "        eps = torch.randn_like(std)\n",
    "        return mean + eps * std\n",
    "\n",
    "    def forward(self, x):\n",
    "        mean, logvar = self.encoder(x)\n",
    "        z = self.reparameterize(mean, logvar)\n",
    "        reconstruction = self.decoder(z)\n",
    "        return reconstruction, mean, logvar\n",
    "\n",
    "    def get_embedding(self, x):\n",
    "        self.eval()\n",
    "        with torch.no_grad():\n",
    "            mean, logvar = self.encoder(x)\n",
    "            z = self.reparameterize(mean, logvar)\n",
    "        return z\n",
    "\n",
    "\n",
    "def count_parameters(model):\n",
    "    return sum(p.numel() for p in model.parameters() if p.requires_grad)\n"
   ]
  },
  {
   "cell_type": "code",
   "execution_count": 18,
   "id": "f7989eba",
   "metadata": {},
   "outputs": [],
   "source": [
    "def train(model, dataloader, optimizer, criterion, alpha, kl_loss_enabled=True):\n",
    "    model.train()  # Set the model to training mode\n",
    "    running_loss = 0.0\n",
    "\n",
    "    for data, label in dataloader:  # We don't use the labels during unsupervised training for VAE\n",
    "        data = data.to(device)\n",
    "        optimizer.zero_grad()\n",
    "\n",
    "        # Forward pass through the model\n",
    "        reconstruction, mean, logvar = model(data)\n",
    "\n",
    "        # Compute the reconstruction loss (mean squared error)\n",
    "        recon_loss = criterion(reconstruction, data)\n",
    "\n",
    "        # Compute the KL divergence loss\n",
    "        kl_loss = -0.5 * torch.mean(1 + logvar - mean.pow(2) - logvar.exp())\n",
    "\n",
    "        # Combine the losses\n",
    "        loss = recon_loss + (alpha * kl_loss if kl_loss_enabled else 0)\n",
    "\n",
    "        # Backward pass and optimization\n",
    "        loss.backward()\n",
    "        optimizer.step()\n",
    "\n",
    "        running_loss += loss.item() * data.size(0)  # Accumulate the total loss for this batch\n",
    "\n",
    "    epoch_loss = running_loss / len(dataloader.dataset)  # Calculate the average loss per sample\n",
    "    return epoch_loss\n",
    "\n",
    "\n",
    "def test(model, dataloader, criterion):\n",
    "    model.eval()\n",
    "    running_loss = 0\n",
    "    with torch.no_grad():\n",
    "        for data, label in dataloader:  # 注意：解包数据，将信号和标签分别取出\n",
    "            data = data.to(device)\n",
    "            reconstruction, _, _ = model(data)\n",
    "            loss = criterion(reconstruction, data)\n",
    "            running_loss += loss.item() * data.size(0)\n",
    "    return running_loss / len(dataloader.dataset)\n",
    "\n",
    "def get_latent_variables(model, dataloader):\n",
    "    model.eval()\n",
    "    all_latent_vars = []\n",
    "    with torch.no_grad():\n",
    "        for data, label  in dataloader:\n",
    "            data = data.to(device)\n",
    "            _, mean, _ = model(data)\n",
    "            all_latent_vars.append(mean.detach().cpu())\n",
    "    return torch.cat(all_latent_vars)\n",
    "\n",
    "\n",
    "def extract_latent_features(vae_model, dataset):\n",
    "    latent_features = []\n",
    "    labels = []\n",
    "\n",
    "    for i in range(len(dataset)):\n",
    "        signal, label = dataset[i]  # 从数据集中获取信号和标签\n",
    "\n",
    "        # 将信号放入设备\n",
    "        signal = signal.unsqueeze(0).to(device)  # 增加 batch 维度\n",
    "\n",
    "        # 获取潜在表示\n",
    "        with torch.no_grad():\n",
    "            latent_vector = vae_model.get_embedding(signal).cpu().numpy()\n",
    "        latent_features.append(latent_vector.flatten())\n",
    "        \n",
    "        labels.append(label)\n",
    "\n",
    "    return np.array(latent_features), np.array(labels)"
   ]
  },
  {
   "cell_type": "code",
   "execution_count": 19,
   "id": "5d1179e8",
   "metadata": {},
   "outputs": [],
   "source": [
    "def train_and_evaluate(data_folder, valid_outcome_data, latent_dim=10, initial_channels=128, seq_length=1139,\n",
    "                       batch_size=32, epochs=100, alpha=1e-6, patience=3, strategy='padding'):\n",
    "    # 1. 创建 EEG 数据集和数据加载器\n",
    "    eeg_dataset = EEGDataset(data_folder, valid_outcome_data, target_length=seq_length, strategy=strategy, use_labels=False)\n",
    "    train_size = int(0.8 * len(eeg_dataset))\n",
    "    test_size = len(eeg_dataset) - train_size\n",
    "    train_dataset, test_dataset = torch.utils.data.random_split(eeg_dataset, [train_size, test_size])\n",
    "\n",
    "    train_loader = DataLoader(train_dataset, batch_size=batch_size, shuffle=True)\n",
    "    test_loader = DataLoader(test_dataset, batch_size=batch_size, shuffle=False)\n",
    "\n",
    "    # 2. 定义 VAE 模型、损失函数和优化器\n",
    "    vae_model = VAE(latent_dim, seq_length).to(device)  # 传递 seq_length\n",
    "    criterion = nn.MSELoss()\n",
    "    optimizer = optim.Adam(vae_model.parameters(), lr=1e-3, weight_decay=1e-4)\n",
    "\n",
    "    # 3. 训练和测试损失列表，用于绘制曲线\n",
    "    train_losses = []\n",
    "    test_losses = []\n",
    "\n",
    "    # 4. 早停相关变量\n",
    "    best_test_loss = float('inf')\n",
    "    epochs_no_improve = 0\n",
    "\n",
    "    # 5. 训练循环\n",
    "    for epoch in tqdm(range(epochs), desc=\"Training Progress\"):\n",
    "        train_loss = train(vae_model, train_loader, optimizer, criterion, alpha)\n",
    "        test_loss = test(vae_model, test_loader, criterion)\n",
    "        train_losses.append(train_loss)\n",
    "        test_losses.append(test_loss)\n",
    "\n",
    "        #print(f'Epoch {epoch + 1}/{epochs}, Train Loss: {train_loss:.4f}, Test Loss: {test_loss:.4f}')\n",
    "\n",
    "        # 检查早停条件\n",
    "        if test_loss < best_test_loss:\n",
    "            best_test_loss = test_loss\n",
    "            epochs_no_improve = 0\n",
    "        else:\n",
    "            epochs_no_improve += 1\n",
    "\n",
    "        if epochs_no_improve >= patience:\n",
    "            #print(\"Validation loss has not improved for {} epochs. Early stopping...\".format(patience))\n",
    "            break\n",
    "\n",
    "    # 6. 提取潜在特征\n",
    "    eeg_dataset_with_outcomes = EEGDataset(data_folder, valid_outcome_data, target_length=seq_length, strategy=strategy, use_labels=True)\n",
    "    latent_features, labels = extract_latent_features(vae_model, eeg_dataset_with_outcomes)\n",
    "\n",
    "    # 7. 使用分层划分进行训练和测试集划分\n",
    "    X_train, X_test, y_train, y_test = train_test_split(latent_features, labels, test_size=0.3, stratify=labels, random_state=42)\n",
    "\n",
    "    # 8. 创建并训练 SVM 模型\n",
    "    #svm_model = SVC(kernel='linear', C=1.0, class_weight='balanced', random_state=42)\n",
    "    #svm_model.fit(X_train, y_train)\n",
    "\n",
    "    # 9. 预测并评估模型\n",
    "    #y_pred = svm_model.predict(X_test)\n",
    "    #accuracy = accuracy_score(y_test, y_pred)\n",
    "\n",
    "    #print(f\"Accuracy of SVM on latent features: {accuracy:.4f}\")\n",
    "    #print(\"\\nClassification Report:\")\n",
    "    #report = classification_report(y_test, y_pred, output_dict=True)\n",
    "    #print(report)\n",
    "    #print(\"\\nConfusion Matrix:\")\n",
    "    #cm = confusion_matrix(y_test, y_pred)\n",
    "    #print(cm)\n",
    "    #print(\"\\n\")\n",
    "    #======================================================================================\n",
    "    # 8. 创建并训练 XGBoost 模型\n",
    "    xgb_model = XGBClassifier(use_label_encoder=False, eval_metric='mlogloss')  # 设定不使用标签编码\n",
    "    xgb_model.fit(X_train, y_train)\n",
    "\n",
    "    # 9. 预测并评估模型\n",
    "    y_pred = xgb_model.predict(X_test)\n",
    "    accuracy = accuracy_score(y_test, y_pred)\n",
    "\n",
    "    print(f\"Accuracy of XGBoost on latent features: {accuracy:.4f}\")\n",
    "    report = classification_report(y_test, y_pred, output_dict=True)\n",
    "    print(\"\\nConfusion Matrix:\")\n",
    "    cm = confusion_matrix(y_test, y_pred)\n",
    "    print(cm)\n",
    "\n",
    "\n",
    "    # 10. 返回结果\n",
    "    return {\n",
    "        'train_losses': train_losses,\n",
    "        'test_losses': test_losses,\n",
    "        'svm_accuracy': accuracy,\n",
    "        'classification_report': report,\n",
    "        'confusion_matrix': cm.tolist()  # 保存为列表格式\n",
    "    }\n"
   ]
  },
  {
   "cell_type": "code",
   "execution_count": 20,
   "id": "99176ad4",
   "metadata": {},
   "outputs": [],
   "source": [
    "import os\n",
    "import pandas as pd\n",
    "\n",
    "def optimize_latent_dimensions(data_folder, valid_outcome_data, min_latent_dim=1, max_latent_dim=100, \n",
    "                               initial_channels=128, seq_length=1139, batch_size=32, \n",
    "                               epochs=100, alpha=1e-6, patience=10, strategy='padding'):\n",
    "    # 检查结果文件是否存在\n",
    "    results_file = 'latent_optimization_results.csv'\n",
    "    \n",
    "    if os.path.exists(results_file):\n",
    "        # 读取已存在的结果文件\n",
    "        existing_results = pd.read_csv(results_file)\n",
    "        last_latent_dim = existing_results['Latent Dimension'].max()  # 找到最后一次的潜在维度\n",
    "    else:\n",
    "        # 如果文件不存在，则从最小潜在维度开始\n",
    "        last_latent_dim = min_latent_dim - 1\n",
    "\n",
    "    # 遍历潜在维度\n",
    "    for latent_dim in range(last_latent_dim + 1, max_latent_dim + 1):\n",
    "        print(f\"Training VAE with latent dimension: {latent_dim}\")\n",
    "        results = train_and_evaluate(data_folder=data_folder, valid_outcome_data=valid_outcome_data,\n",
    "                                      latent_dim=latent_dim, initial_channels=initial_channels,\n",
    "                                      seq_length=seq_length, batch_size=batch_size,\n",
    "                                      epochs=epochs, alpha=alpha, patience=patience, strategy=strategy)\n",
    "\n",
    "        # 将结果存储到表格中\n",
    "        new_result_df = pd.DataFrame({\n",
    "            'Latent Dimension': [latent_dim],\n",
    "            'Train Loss': [results['train_losses']],  \n",
    "            'Test Loss': [results['test_losses']],    \n",
    "            'XGBoost Accuracy': [results['svm_accuracy']],\n",
    "            'Classification Report': [results['classification_report']],\n",
    "            'Confusion Matrix': [results['confusion_matrix']]\n",
    "        })\n",
    "\n",
    "        # 追加结果到CSV文件\n",
    "        if os.path.exists(results_file):\n",
    "            new_result_df.to_csv(results_file, mode='a', header=False, index=False)  # 追加到已有文件\n",
    "        else:\n",
    "            new_result_df.to_csv(results_file, index=False)  # 创建新文件并写入\n",
    "\n",
    "        print(f\"Results for latent dimension {latent_dim} saved.\")\n",
    "\n"
   ]
  },
  {
   "cell_type": "code",
   "execution_count": 23,
   "id": "deab2d7b",
   "metadata": {},
   "outputs": [
    {
     "name": "stdout",
     "output_type": "stream",
     "text": [
      "Training VAE with latent dimension: 1\n"
     ]
    },
    {
     "name": "stderr",
     "output_type": "stream",
     "text": [
      "Training Progress: 100%|██████████████████████| 100/100 [13:01<00:00,  7.81s/it]\n"
     ]
    },
    {
     "name": "stdout",
     "output_type": "stream",
     "text": [
      "Accuracy of XGBoost on latent features: 0.7111\n",
      "\n",
      "Confusion Matrix:\n",
      "[[62 12]\n",
      " [14  2]]\n",
      "Results for latent dimension 1 saved.\n",
      "Training VAE with latent dimension: 2\n"
     ]
    },
    {
     "name": "stderr",
     "output_type": "stream",
     "text": [
      "Training Progress:  75%|█████████████████▎     | 75/100 [09:58<03:19,  7.99s/it]\n"
     ]
    },
    {
     "name": "stdout",
     "output_type": "stream",
     "text": [
      "Accuracy of XGBoost on latent features: 0.6667\n",
      "\n",
      "Confusion Matrix:\n",
      "[[58 16]\n",
      " [14  2]]\n",
      "Results for latent dimension 2 saved.\n",
      "Training VAE with latent dimension: 3\n"
     ]
    },
    {
     "name": "stderr",
     "output_type": "stream",
     "text": [
      "Training Progress: 100%|██████████████████████| 100/100 [12:55<00:00,  7.75s/it]\n"
     ]
    },
    {
     "name": "stdout",
     "output_type": "stream",
     "text": [
      "Accuracy of XGBoost on latent features: 0.7444\n",
      "\n",
      "Confusion Matrix:\n",
      "[[63 11]\n",
      " [12  4]]\n",
      "Results for latent dimension 3 saved.\n",
      "Training VAE with latent dimension: 4\n"
     ]
    },
    {
     "name": "stderr",
     "output_type": "stream",
     "text": [
      "Training Progress: 100%|██████████████████████| 100/100 [12:56<00:00,  7.77s/it]\n"
     ]
    },
    {
     "name": "stdout",
     "output_type": "stream",
     "text": [
      "Accuracy of XGBoost on latent features: 0.7778\n",
      "\n",
      "Confusion Matrix:\n",
      "[[66  8]\n",
      " [12  4]]\n",
      "Results for latent dimension 4 saved.\n",
      "Training VAE with latent dimension: 5\n"
     ]
    },
    {
     "name": "stderr",
     "output_type": "stream",
     "text": [
      "Training Progress:  77%|█████████████████▋     | 77/100 [10:16<03:04,  8.01s/it]\n"
     ]
    },
    {
     "name": "stdout",
     "output_type": "stream",
     "text": [
      "Accuracy of XGBoost on latent features: 0.7556\n",
      "\n",
      "Confusion Matrix:\n",
      "[[63 11]\n",
      " [11  5]]\n",
      "Results for latent dimension 5 saved.\n",
      "Training VAE with latent dimension: 6\n"
     ]
    },
    {
     "name": "stderr",
     "output_type": "stream",
     "text": [
      "Training Progress: 100%|██████████████████████| 100/100 [13:27<00:00,  8.08s/it]\n"
     ]
    },
    {
     "name": "stdout",
     "output_type": "stream",
     "text": [
      "Accuracy of XGBoost on latent features: 0.7222\n",
      "\n",
      "Confusion Matrix:\n",
      "[[61 13]\n",
      " [12  4]]\n",
      "Results for latent dimension 6 saved.\n",
      "Training VAE with latent dimension: 7\n"
     ]
    },
    {
     "name": "stderr",
     "output_type": "stream",
     "text": [
      "Training Progress:  81%|█████████████████    | 81/100 [1:40:19<23:32, 74.32s/it]\n"
     ]
    },
    {
     "name": "stdout",
     "output_type": "stream",
     "text": [
      "Accuracy of XGBoost on latent features: 0.8000\n",
      "\n",
      "Confusion Matrix:\n",
      "[[67  7]\n",
      " [11  5]]\n",
      "Results for latent dimension 7 saved.\n",
      "Training VAE with latent dimension: 8\n"
     ]
    },
    {
     "name": "stderr",
     "output_type": "stream",
     "text": [
      "Training Progress:  98%|██████████████████████▌| 98/100 [12:40<00:15,  7.76s/it]\n"
     ]
    },
    {
     "name": "stdout",
     "output_type": "stream",
     "text": [
      "Accuracy of XGBoost on latent features: 0.7778\n",
      "\n",
      "Confusion Matrix:\n",
      "[[65  9]\n",
      " [11  5]]\n",
      "Results for latent dimension 8 saved.\n",
      "Training VAE with latent dimension: 9\n"
     ]
    },
    {
     "name": "stderr",
     "output_type": "stream",
     "text": [
      "Training Progress: 100%|██████████████████████| 100/100 [12:53<00:00,  7.73s/it]\n"
     ]
    },
    {
     "name": "stdout",
     "output_type": "stream",
     "text": [
      "Accuracy of XGBoost on latent features: 0.7444\n",
      "\n",
      "Confusion Matrix:\n",
      "[[62 12]\n",
      " [11  5]]\n",
      "Results for latent dimension 9 saved.\n",
      "Training VAE with latent dimension: 10\n"
     ]
    },
    {
     "name": "stderr",
     "output_type": "stream",
     "text": [
      "Training Progress:  61%|██████████████         | 61/100 [08:00<05:07,  7.88s/it]\n"
     ]
    },
    {
     "name": "stdout",
     "output_type": "stream",
     "text": [
      "Accuracy of XGBoost on latent features: 0.7889\n",
      "\n",
      "Confusion Matrix:\n",
      "[[66  8]\n",
      " [11  5]]\n",
      "Results for latent dimension 10 saved.\n",
      "Training VAE with latent dimension: 11\n"
     ]
    },
    {
     "name": "stderr",
     "output_type": "stream",
     "text": [
      "Training Progress:  91%|████████████████████▉  | 91/100 [11:53<01:10,  7.85s/it]\n"
     ]
    },
    {
     "name": "stdout",
     "output_type": "stream",
     "text": [
      "Accuracy of XGBoost on latent features: 0.7444\n",
      "\n",
      "Confusion Matrix:\n",
      "[[64 10]\n",
      " [13  3]]\n",
      "Results for latent dimension 11 saved.\n",
      "Training VAE with latent dimension: 12\n"
     ]
    },
    {
     "name": "stderr",
     "output_type": "stream",
     "text": [
      "Training Progress:  61%|██████████████         | 61/100 [08:01<05:07,  7.89s/it]\n"
     ]
    },
    {
     "name": "stdout",
     "output_type": "stream",
     "text": [
      "Accuracy of XGBoost on latent features: 0.7222\n",
      "\n",
      "Confusion Matrix:\n",
      "[[60 14]\n",
      " [11  5]]\n",
      "Results for latent dimension 12 saved.\n",
      "Training VAE with latent dimension: 13\n"
     ]
    },
    {
     "name": "stderr",
     "output_type": "stream",
     "text": [
      "Training Progress:  83%|███████████████████    | 83/100 [10:53<02:13,  7.87s/it]\n"
     ]
    },
    {
     "name": "stdout",
     "output_type": "stream",
     "text": [
      "Accuracy of XGBoost on latent features: 0.7333\n",
      "\n",
      "Confusion Matrix:\n",
      "[[64 10]\n",
      " [14  2]]\n",
      "Results for latent dimension 13 saved.\n",
      "Training VAE with latent dimension: 14\n"
     ]
    },
    {
     "name": "stderr",
     "output_type": "stream",
     "text": [
      "Training Progress:  62%|██████████████▎        | 62/100 [08:10<05:00,  7.92s/it]\n"
     ]
    },
    {
     "name": "stdout",
     "output_type": "stream",
     "text": [
      "Accuracy of XGBoost on latent features: 0.7778\n",
      "\n",
      "Confusion Matrix:\n",
      "[[66  8]\n",
      " [12  4]]\n",
      "Results for latent dimension 14 saved.\n",
      "Training VAE with latent dimension: 15\n"
     ]
    },
    {
     "name": "stderr",
     "output_type": "stream",
     "text": [
      "Training Progress:  55%|████████████▋          | 55/100 [07:16<05:57,  7.94s/it]\n"
     ]
    },
    {
     "name": "stdout",
     "output_type": "stream",
     "text": [
      "Accuracy of XGBoost on latent features: 0.7778\n",
      "\n",
      "Confusion Matrix:\n",
      "[[65  9]\n",
      " [11  5]]\n",
      "Results for latent dimension 15 saved.\n",
      "Training VAE with latent dimension: 16\n"
     ]
    },
    {
     "name": "stderr",
     "output_type": "stream",
     "text": [
      "Training Progress:  71%|████████████████▎      | 71/100 [09:21<03:49,  7.91s/it]\n"
     ]
    },
    {
     "name": "stdout",
     "output_type": "stream",
     "text": [
      "Accuracy of XGBoost on latent features: 0.7778\n",
      "\n",
      "Confusion Matrix:\n",
      "[[63 11]\n",
      " [ 9  7]]\n",
      "Results for latent dimension 16 saved.\n",
      "Training VAE with latent dimension: 17\n"
     ]
    },
    {
     "name": "stderr",
     "output_type": "stream",
     "text": [
      "Training Progress:  55%|████████████▋          | 55/100 [07:17<05:57,  7.95s/it]\n"
     ]
    },
    {
     "name": "stdout",
     "output_type": "stream",
     "text": [
      "Accuracy of XGBoost on latent features: 0.7667\n",
      "\n",
      "Confusion Matrix:\n",
      "[[63 11]\n",
      " [10  6]]\n",
      "Results for latent dimension 17 saved.\n",
      "Training VAE with latent dimension: 18\n"
     ]
    },
    {
     "name": "stderr",
     "output_type": "stream",
     "text": [
      "Training Progress:  69%|███████████████▊       | 69/100 [09:07<04:05,  7.93s/it]\n"
     ]
    },
    {
     "name": "stdout",
     "output_type": "stream",
     "text": [
      "Accuracy of XGBoost on latent features: 0.7778\n",
      "\n",
      "Confusion Matrix:\n",
      "[[67  7]\n",
      " [13  3]]\n",
      "Results for latent dimension 18 saved.\n",
      "Training VAE with latent dimension: 19\n"
     ]
    },
    {
     "name": "stderr",
     "output_type": "stream",
     "text": [
      "Training Progress:  86%|███████████████████▊   | 86/100 [11:20<01:50,  7.92s/it]\n"
     ]
    },
    {
     "name": "stdout",
     "output_type": "stream",
     "text": [
      "Accuracy of XGBoost on latent features: 0.7333\n",
      "\n",
      "Confusion Matrix:\n",
      "[[63 11]\n",
      " [13  3]]\n",
      "Results for latent dimension 19 saved.\n",
      "Training VAE with latent dimension: 20\n"
     ]
    },
    {
     "name": "stderr",
     "output_type": "stream",
     "text": [
      "Training Progress:  94%|█████████████████████▌ | 94/100 [12:22<00:47,  7.90s/it]\n"
     ]
    },
    {
     "name": "stdout",
     "output_type": "stream",
     "text": [
      "Accuracy of XGBoost on latent features: 0.7778\n",
      "\n",
      "Confusion Matrix:\n",
      "[[66  8]\n",
      " [12  4]]\n",
      "Results for latent dimension 20 saved.\n"
     ]
    }
   ],
   "source": [
    "# 调用该函数进行潜在维度优化\n",
    "optimize_latent_dimensions(data_folder='5min_smoothed_data/', valid_outcome_data='valid_patients_outcome.csv',min_latent_dim=1, max_latent_dim=20,initial_channels=128, seq_length=1139, batch_size=32, \n",
    "                               epochs=100, alpha=1e-6, patience=10, strategy='padding')"
   ]
  },
  {
   "cell_type": "code",
   "execution_count": 24,
   "id": "fad373ec",
   "metadata": {},
   "outputs": [
    {
     "name": "stdout",
     "output_type": "stream",
     "text": [
      "Best XGBoost Accuracy Results with LD 7:\n",
      "Final Train Loss: 0.010933\n",
      "Final Test Loss: 0.015386\n",
      "\n",
      "Best XGBoost Accuracy: 0.8000\n",
      "\n",
      "Classification Report:\n",
      "Label 0: Precision = 0.8590, Recall = 0.9054, F1 Score = 0.8816\n",
      "Label 1: Precision = 0.4167, Recall = 0.3125, F1 Score = 0.3571\n",
      "Label macro avg: Precision = 0.6378, Recall = 0.6090, F1 Score = 0.6194\n",
      "Label weighted avg: Precision = 0.7803, Recall = 0.8000, F1 Score = 0.7883\n",
      "\n",
      "Confusion Matrix:\n",
      "True Negatives: 67, False Positives: 7\n",
      "False Negatives: 11, True Positives: 5\n"
     ]
    },
    {
     "data": {
      "image/png": "[encoded data removed]",
      "text/plain": [
       "<Figure size 720x432 with 1 Axes>"
      ]
     },
     "metadata": {
      "needs_background": "light"
     },
     "output_type": "display_data"
    }
   ],
   "source": [
    "import pandas as pd\n",
    "import matplotlib.pyplot as plt\n",
    "import ast\n",
    "\n",
    "# 读取优化结果的 CSV 文件\n",
    "results_file = 'latent_optimization_results.csv'\n",
    "results_df = pd.read_csv(results_file)\n",
    "\n",
    "# 找到 SVM 准确度最高的行\n",
    "best_row = results_df.loc[results_df['XGBoost Accuracy'].idxmax()]\n",
    "# 打印出对应的数据\n",
    "print(f'Best XGBoost Accuracy Results with LD {best_row[\"Latent Dimension\"]}:')\n",
    "\n",
    "# 提取训练和测试损失\n",
    "train_losses = eval(best_row['Train Loss'])  # 将字符串转换为列表\n",
    "test_losses = eval(best_row['Test Loss'])    # 将字符串转换为列表\n",
    "\n",
    "# 打印最后的训练损失和测试损失\n",
    "print(f\"Final Train Loss: {train_losses[-1]:.6f}\")  # 打印最后一个训练损失\n",
    "print(f\"Final Test Loss: {test_losses[-1]:.6f}\")    # 打印最后一个测试损失\n",
    "\n",
    "# 打印分类报告\n",
    "print(f'\\nBest XGBoost Accuracy: {best_row[\"XGBoost Accuracy\"]:.4f}')\n",
    "\n",
    "classification_reports = ast.literal_eval(best_row['Classification Report'])  # 将字符串转换为字典\n",
    "\n",
    "print(\"\\nClassification Report:\")\n",
    "for label, metrics in classification_reports.items():\n",
    "    # 确保 'metrics' 是字典\n",
    "    if isinstance(metrics, dict):  \n",
    "        precision = metrics['precision']\n",
    "        recall = metrics['recall']\n",
    "        f1_score = metrics['f1-score']\n",
    "        print(f\"Label {label}: Precision = {precision:.4f}, Recall = {recall:.4f}, F1 Score = {f1_score:.4f}\")\n",
    "\n",
    "# 打印混淆矩阵\n",
    "confusion_matrixs = ast.literal_eval(best_row['Confusion Matrix'])  # 使用 literal_eval 来解析\n",
    "\n",
    "print(\"\\nConfusion Matrix:\")\n",
    "print(f\"True Negatives: {confusion_matrixs[0][0]}, False Positives: {confusion_matrixs[0][1]}\")\n",
    "print(f\"False Negatives: {confusion_matrixs[1][0]}, True Positives: {confusion_matrixs[1][1]}\")\n",
    "\n",
    "# 绘制损失曲线\n",
    "plt.figure(figsize=(10, 6))\n",
    "plt.plot(train_losses, label='Train Loss')\n",
    "plt.plot(test_losses, label='Test Loss')\n",
    "plt.xlabel('Epoch')\n",
    "plt.ylabel('Loss')\n",
    "plt.title(f'Training and Testing Loss for Best XGBoost Accuracy: {best_row[\"XGBoost Accuracy\"]:.4f}')\n",
    "plt.legend()\n",
    "plt.grid(True)\n",
    "plt.show()"
   ]
  },
  {
   "cell_type": "code",
   "execution_count": null,
   "id": "6e1f2827",
   "metadata": {},
   "outputs": [],
   "source": []
  }
 ],
 "metadata": {
  "kernelspec": {
   "display_name": "Python 3 (ipykernel)",
   "language": "python",
   "name": "python3"
  },
  "language_info": {
   "codemirror_mode": {
    "name": "ipython",
    "version": 3
   },
   "file_extension": ".py",
   "mimetype": "text/x-python",
   "name": "python",
   "nbconvert_exporter": "python",
   "pygments_lexer": "ipython3",
   "version": "3.9.7"
  }
 },
 "nbformat": 4,
 "nbformat_minor": 5
}
