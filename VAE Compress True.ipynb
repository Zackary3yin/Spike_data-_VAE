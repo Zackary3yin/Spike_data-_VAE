{
 "cells": [
  {
   "cell_type": "code",
   "execution_count": 1,
   "id": "e2a319d8-fa0e-4c76-8565-cefe73873acd",
   "metadata": {},
   "outputs": [
    {
     "name": "stdout",
     "output_type": "stream",
     "text": [
      "cpu\n"
     ]
    }
   ],
   "source": [
    "import numpy as np\n",
    "import matplotlib.pyplot as plt\n",
    "import torch as torch\n",
    "import torch.nn as nn\n",
    "import torch.nn.functional as F\n",
    "from torch.utils.data import DataLoader, TensorDataset, random_split\n",
    "from sklearn.metrics import r2_score\n",
    "\n",
    "if torch.cuda.is_available():    \n",
    "    device = \"cuda:0\"\n",
    "else:\n",
    "    device = \"cpu\"\n",
    "print(device)\n",
    "\n",
    "from sklearn.model_selection import train_test_split\n",
    "from sklearn.preprocessing import MinMaxScaler\n",
    "import torch.optim as optim"
   ]
  },
  {
   "cell_type": "markdown",
   "id": "a3bd9c83-2125-4ed2-9219-c7faffb97dfc",
   "metadata": {},
   "source": [
    "### Data Preparation\n",
    "\n",
    "Let's first import all the datasets associated to the simulated curves. These correspond to random parameter initializations for Helena's BlaM model of growth. "
   ]
  },
  {
   "cell_type": "markdown",
   "id": "0fcf709c-7e56-4589-a3b6-289af1a5a8ea",
   "metadata": {},
   "source": [
    "The structure of the dataset corresponds to 10,000 unique parameter combinations, each of which consists of three varibales which evolve over time: the species population $n$ in the first position, $b$ the Beta-lactamase enzyme concentration, and $a$ is the antibiotic concentration. We are only interested in embedding the growth dynamics, $n$ in the system. \n",
    "\n",
    "We have for each of these sets of parameters and three variables, we have three conditions corresponding to pure growth without any antibiotic, growth with antibiotic, and growth with antibiotic and Bla inhibitor. "
   ]
  },
  {
   "cell_type": "markdown",
   "id": "3464e3a8-04ec-46bd-a510-ea1f660af40c",
   "metadata": {},
   "source": [
    "Let's now plot some of the dataset just to confirm what we are looking at. "
   ]
  },
  {
   "cell_type": "markdown",
   "id": "568bd607-1f2e-4e7f-9500-b14d92bccb97",
   "metadata": {},
   "source": [
    "## VAE Compression\n",
    "\n",
    "Next we'll treat VAE compression of these data using a simple convolutional encoder/decoder structure. We'll use a simple CNN encoder/decoder structure for generating our embeddings where we first apply convolutional operators to generate features and then linear layers to embed into the desired latent space. "
   ]
  },
  {
   "cell_type": "code",
   "execution_count": 2,
   "id": "82ce5efe-29a0-4cbb-98c6-f1096add3932",
   "metadata": {},
   "outputs": [],
   "source": [
    "initial_channels = 128\n",
    "class CNNEncoder(nn.Module):\n",
    "    def __init__(self, latent_dim):\n",
    "        super(CNNEncoder, self).__init__()\n",
    "        self.latent_dim = latent_dim\n",
    "\n",
    "        layers = [\n",
    "            nn.Conv1d(1, initial_channels, kernel_size=3, stride=1, padding=1),\n",
    "            nn.LeakyReLU()\n",
    "        ]\n",
    "\n",
    "        in_channels = initial_channels\n",
    "        for i in range(3):  # 3 more layers to make 4 in total\n",
    "            out_channels = in_channels // 2\n",
    "            layers.extend([\n",
    "                nn.Conv1d(in_channels, out_channels, kernel_size=3, stride=1, padding=1),\n",
    "                nn.LeakyReLU()\n",
    "            ])\n",
    "            in_channels = out_channels\n",
    "\n",
    "        self.encoder = nn.Sequential(*layers)\n",
    "        self.fc_mean = nn.Linear(in_channels * seq_length, latent_dim)\n",
    "        self.fc_logvar = nn.Linear(in_channels * seq_length, latent_dim)\n",
    "\n",
    "    def forward(self, x):\n",
    "        x = self.encoder(x)\n",
    "        x = x.view(x.size(0), -1)\n",
    "        mean = self.fc_mean(x)\n",
    "        logvar = self.fc_logvar(x)\n",
    "        return mean, logvar\n",
    "\n",
    "class CNNDecoder(nn.Module):\n",
    "    def __init__(self, latent_dim):\n",
    "        super(CNNDecoder, self).__init__()\n",
    "        self.latent_dim = latent_dim\n",
    "        self.fc = nn.Linear(latent_dim, initial_channels // 8 * seq_length)  # Match the output channel of the encoder\n",
    "\n",
    "        layers = [nn.LeakyReLU()]\n",
    "        in_channels = initial_channels // 8\n",
    "        for i in range(3):\n",
    "            out_channels = in_channels * 2\n",
    "            layers.extend([\n",
    "                nn.ConvTranspose1d(in_channels, out_channels, kernel_size=3, stride=1, padding=1),\n",
    "                nn.LeakyReLU()\n",
    "            ])\n",
    "            in_channels = out_channels\n",
    "        \n",
    "        # Remove the last LeakyReLU and add a final ConvTranspose to match the Encoder's starting channel\n",
    "        layers.pop()\n",
    "        layers.append(nn.ConvTranspose1d(in_channels, 1, kernel_size=3, stride=1, padding=1))\n",
    "\n",
    "        self.decoder = nn.Sequential(*layers)\n",
    "\n",
    "    def forward(self, z):\n",
    "        x = self.fc(z)\n",
    "        x = x.view(x.size(0), initial_channels // 8, seq_length)\n",
    "        x = self.decoder(x)\n",
    "        return F.leaky_relu(x)\n",
    "\n",
    "\n",
    "class VAE(nn.Module):\n",
    "    def __init__(self, latent_dim):\n",
    "        super(VAE, self).__init__()\n",
    "        self.latent_dim = latent_dim\n",
    "        self.encoder = CNNEncoder(latent_dim)\n",
    "        self.decoder = CNNDecoder(latent_dim)\n",
    "\n",
    "    def reparameterize(self, mean, logvar):\n",
    "        std = torch.exp(0.5 * logvar)\n",
    "        eps = torch.randn_like(std)\n",
    "        return mean + eps * std\n",
    "\n",
    "    def forward(self, x):\n",
    "        mean, logvar = self.encoder(x)\n",
    "        z = self.reparameterize(mean, logvar)\n",
    "        reconstruction = self.decoder(z)\n",
    "        return reconstruction, mean, logvar\n",
    "    \n",
    "    def get_embedding(self, x):\n",
    "        self.eval()\n",
    "        with torch.no_grad():\n",
    "            mean, logvar = self.encoder(x)\n",
    "            z = self.reparameterize(mean, logvar)\n",
    "        return z\n",
    "\n",
    "def count_parameters(model):\n",
    "    return sum(p.numel() for p in model.parameters() if p.requires_grad)\n",
    "\n",
    "def train(model, dataloader, optimizer, criterion, alpha):\n",
    "    model.train()\n",
    "    running_loss = 0\n",
    "    for data in dataloader:\n",
    "        data = data.to(device)\n",
    "        optimizer.zero_grad()\n",
    "\n",
    "        reconstruction, mean, logvar = model(data)\n",
    "        recon_loss = criterion(reconstruction, data)\n",
    "        kl_loss = -0.5 * torch.mean(1 + logvar - mean.pow(2) - logvar.exp())\n",
    "        loss = recon_loss + alpha * kl_loss\n",
    "\n",
    "        loss.backward()\n",
    "        optimizer.step()\n",
    "\n",
    "        running_loss += loss.item() * data.size(0)\n",
    "        \n",
    "    epoch_loss = running_loss / len(dataloader.dataset)\n",
    "    return epoch_loss\n",
    "\n",
    "def test(model, dataloader, criterion):\n",
    "    model.eval()\n",
    "    running_loss = 0\n",
    "    with torch.no_grad():\n",
    "        for data in dataloader:\n",
    "            data = data.to(device)\n",
    "            reconstruction, _, _ = model(data)\n",
    "            loss = criterion(reconstruction, data)\n",
    "\n",
    "            running_loss += loss.item() * data.size(0)\n",
    "    \n",
    "    epoch_loss = running_loss / len(dataloader.dataset)\n",
    "    return epoch_loss\n",
    "\n",
    "def get_latent_variables(model, dataloader):\n",
    "    model.eval()\n",
    "    all_latent_vars = []\n",
    "    with torch.no_grad():\n",
    "        for data in dataloader:\n",
    "            data = data.to(device)\n",
    "            _, mean, _ = model(data)\n",
    "            all_latent_vars.append(mean.detach().cpu())\n",
    "    return torch.cat(all_latent_vars)"
   ]
  },
  {
   "cell_type": "markdown",
   "id": "728df37f-977c-4d05-9968-841330161d61",
   "metadata": {},
   "source": [
    "We'll now break up the training and testing sets apart and load them into dataloader. While we're at it we'll also go ahead and define a hyperparameter dictionary to collect all hyperparameters of interest in a single location."
   ]
  },
  {
   "cell_type": "code",
   "execution_count": 2,
   "id": "d613be67",
   "metadata": {},
   "outputs": [],
   "source": [
    "import pandas as pd"
   ]
  },
  {
   "cell_type": "code",
   "execution_count": 3,
   "id": "a8836c3c",
   "metadata": {},
   "outputs": [
    {
     "ename": "FileNotFoundError",
     "evalue": "[Errno 2] No such file or directory: 'SparcSSD_GPD_per_hr_data_9_25_2023.csv'",
     "output_type": "error",
     "traceback": [
      "\u001b[0;31m---------------------------------------------------------------------------\u001b[0m",
      "\u001b[0;31mFileNotFoundError\u001b[0m                         Traceback (most recent call last)",
      "\u001b[0;32m/var/folders/8b/cc9112l96mv2srtjrnzbht8w0000gn/T/ipykernel_39702/897400260.py\u001b[0m in \u001b[0;36m<module>\u001b[0;34m\u001b[0m\n\u001b[0;32m----> 1\u001b[0;31m \u001b[0mall_gpd_data\u001b[0m \u001b[0;34m=\u001b[0m \u001b[0mpd\u001b[0m\u001b[0;34m.\u001b[0m\u001b[0mread_csv\u001b[0m\u001b[0;34m(\u001b[0m\u001b[0;34m\"SparcSSD_GPD_per_hr_data_9_25_2023.csv\"\u001b[0m\u001b[0;34m)\u001b[0m\u001b[0;34m\u001b[0m\u001b[0;34m\u001b[0m\u001b[0m\n\u001b[0m\u001b[1;32m      2\u001b[0m \u001b[0;34m\u001b[0m\u001b[0m\n\u001b[1;32m      3\u001b[0m \u001b[0;31m#get patients with at least 1 hour > 0.8 GPD_burden between 6 and 72 hrs\u001b[0m\u001b[0;34m\u001b[0m\u001b[0;34m\u001b[0m\u001b[0m\n\u001b[1;32m      4\u001b[0m \u001b[0;34m\u001b[0m\u001b[0m\n\u001b[1;32m      5\u001b[0m \u001b[0mpatients_meeting_criteria\u001b[0m \u001b[0;34m=\u001b[0m \u001b[0;34m[\u001b[0m\u001b[0;34m]\u001b[0m\u001b[0;34m\u001b[0m\u001b[0;34m\u001b[0m\u001b[0m\n",
      "\u001b[0;32m~/opt/anaconda3/lib/python3.9/site-packages/pandas/util/_decorators.py\u001b[0m in \u001b[0;36mwrapper\u001b[0;34m(*args, **kwargs)\u001b[0m\n\u001b[1;32m    309\u001b[0m                     \u001b[0mstacklevel\u001b[0m\u001b[0;34m=\u001b[0m\u001b[0mstacklevel\u001b[0m\u001b[0;34m,\u001b[0m\u001b[0;34m\u001b[0m\u001b[0;34m\u001b[0m\u001b[0m\n\u001b[1;32m    310\u001b[0m                 )\n\u001b[0;32m--> 311\u001b[0;31m             \u001b[0;32mreturn\u001b[0m \u001b[0mfunc\u001b[0m\u001b[0;34m(\u001b[0m\u001b[0;34m*\u001b[0m\u001b[0margs\u001b[0m\u001b[0;34m,\u001b[0m \u001b[0;34m**\u001b[0m\u001b[0mkwargs\u001b[0m\u001b[0;34m)\u001b[0m\u001b[0;34m\u001b[0m\u001b[0;34m\u001b[0m\u001b[0m\n\u001b[0m\u001b[1;32m    312\u001b[0m \u001b[0;34m\u001b[0m\u001b[0m\n\u001b[1;32m    313\u001b[0m         \u001b[0;32mreturn\u001b[0m \u001b[0mwrapper\u001b[0m\u001b[0;34m\u001b[0m\u001b[0;34m\u001b[0m\u001b[0m\n",
      "\u001b[0;32m~/opt/anaconda3/lib/python3.9/site-packages/pandas/io/parsers/readers.py\u001b[0m in \u001b[0;36mread_csv\u001b[0;34m(filepath_or_buffer, sep, delimiter, header, names, index_col, usecols, squeeze, prefix, mangle_dupe_cols, dtype, engine, converters, true_values, false_values, skipinitialspace, skiprows, skipfooter, nrows, na_values, keep_default_na, na_filter, verbose, skip_blank_lines, parse_dates, infer_datetime_format, keep_date_col, date_parser, dayfirst, cache_dates, iterator, chunksize, compression, thousands, decimal, lineterminator, quotechar, quoting, doublequote, escapechar, comment, encoding, encoding_errors, dialect, error_bad_lines, warn_bad_lines, on_bad_lines, delim_whitespace, low_memory, memory_map, float_precision, storage_options)\u001b[0m\n\u001b[1;32m    584\u001b[0m     \u001b[0mkwds\u001b[0m\u001b[0;34m.\u001b[0m\u001b[0mupdate\u001b[0m\u001b[0;34m(\u001b[0m\u001b[0mkwds_defaults\u001b[0m\u001b[0;34m)\u001b[0m\u001b[0;34m\u001b[0m\u001b[0;34m\u001b[0m\u001b[0m\n\u001b[1;32m    585\u001b[0m \u001b[0;34m\u001b[0m\u001b[0m\n\u001b[0;32m--> 586\u001b[0;31m     \u001b[0;32mreturn\u001b[0m \u001b[0m_read\u001b[0m\u001b[0;34m(\u001b[0m\u001b[0mfilepath_or_buffer\u001b[0m\u001b[0;34m,\u001b[0m \u001b[0mkwds\u001b[0m\u001b[0;34m)\u001b[0m\u001b[0;34m\u001b[0m\u001b[0;34m\u001b[0m\u001b[0m\n\u001b[0m\u001b[1;32m    587\u001b[0m \u001b[0;34m\u001b[0m\u001b[0m\n\u001b[1;32m    588\u001b[0m \u001b[0;34m\u001b[0m\u001b[0m\n",
      "\u001b[0;32m~/opt/anaconda3/lib/python3.9/site-packages/pandas/io/parsers/readers.py\u001b[0m in \u001b[0;36m_read\u001b[0;34m(filepath_or_buffer, kwds)\u001b[0m\n\u001b[1;32m    480\u001b[0m \u001b[0;34m\u001b[0m\u001b[0m\n\u001b[1;32m    481\u001b[0m     \u001b[0;31m# Create the parser.\u001b[0m\u001b[0;34m\u001b[0m\u001b[0;34m\u001b[0m\u001b[0m\n\u001b[0;32m--> 482\u001b[0;31m     \u001b[0mparser\u001b[0m \u001b[0;34m=\u001b[0m \u001b[0mTextFileReader\u001b[0m\u001b[0;34m(\u001b[0m\u001b[0mfilepath_or_buffer\u001b[0m\u001b[0;34m,\u001b[0m \u001b[0;34m**\u001b[0m\u001b[0mkwds\u001b[0m\u001b[0;34m)\u001b[0m\u001b[0;34m\u001b[0m\u001b[0;34m\u001b[0m\u001b[0m\n\u001b[0m\u001b[1;32m    483\u001b[0m \u001b[0;34m\u001b[0m\u001b[0m\n\u001b[1;32m    484\u001b[0m     \u001b[0;32mif\u001b[0m \u001b[0mchunksize\u001b[0m \u001b[0;32mor\u001b[0m \u001b[0miterator\u001b[0m\u001b[0;34m:\u001b[0m\u001b[0;34m\u001b[0m\u001b[0;34m\u001b[0m\u001b[0m\n",
      "\u001b[0;32m~/opt/anaconda3/lib/python3.9/site-packages/pandas/io/parsers/readers.py\u001b[0m in \u001b[0;36m__init__\u001b[0;34m(self, f, engine, **kwds)\u001b[0m\n\u001b[1;32m    809\u001b[0m             \u001b[0mself\u001b[0m\u001b[0;34m.\u001b[0m\u001b[0moptions\u001b[0m\u001b[0;34m[\u001b[0m\u001b[0;34m\"has_index_names\"\u001b[0m\u001b[0;34m]\u001b[0m \u001b[0;34m=\u001b[0m \u001b[0mkwds\u001b[0m\u001b[0;34m[\u001b[0m\u001b[0;34m\"has_index_names\"\u001b[0m\u001b[0;34m]\u001b[0m\u001b[0;34m\u001b[0m\u001b[0;34m\u001b[0m\u001b[0m\n\u001b[1;32m    810\u001b[0m \u001b[0;34m\u001b[0m\u001b[0m\n\u001b[0;32m--> 811\u001b[0;31m         \u001b[0mself\u001b[0m\u001b[0;34m.\u001b[0m\u001b[0m_engine\u001b[0m \u001b[0;34m=\u001b[0m \u001b[0mself\u001b[0m\u001b[0;34m.\u001b[0m\u001b[0m_make_engine\u001b[0m\u001b[0;34m(\u001b[0m\u001b[0mself\u001b[0m\u001b[0;34m.\u001b[0m\u001b[0mengine\u001b[0m\u001b[0;34m)\u001b[0m\u001b[0;34m\u001b[0m\u001b[0;34m\u001b[0m\u001b[0m\n\u001b[0m\u001b[1;32m    812\u001b[0m \u001b[0;34m\u001b[0m\u001b[0m\n\u001b[1;32m    813\u001b[0m     \u001b[0;32mdef\u001b[0m \u001b[0mclose\u001b[0m\u001b[0;34m(\u001b[0m\u001b[0mself\u001b[0m\u001b[0;34m)\u001b[0m\u001b[0;34m:\u001b[0m\u001b[0;34m\u001b[0m\u001b[0;34m\u001b[0m\u001b[0m\n",
      "\u001b[0;32m~/opt/anaconda3/lib/python3.9/site-packages/pandas/io/parsers/readers.py\u001b[0m in \u001b[0;36m_make_engine\u001b[0;34m(self, engine)\u001b[0m\n\u001b[1;32m   1038\u001b[0m             )\n\u001b[1;32m   1039\u001b[0m         \u001b[0;31m# error: Too many arguments for \"ParserBase\"\u001b[0m\u001b[0;34m\u001b[0m\u001b[0;34m\u001b[0m\u001b[0m\n\u001b[0;32m-> 1040\u001b[0;31m         \u001b[0;32mreturn\u001b[0m \u001b[0mmapping\u001b[0m\u001b[0;34m[\u001b[0m\u001b[0mengine\u001b[0m\u001b[0;34m]\u001b[0m\u001b[0;34m(\u001b[0m\u001b[0mself\u001b[0m\u001b[0;34m.\u001b[0m\u001b[0mf\u001b[0m\u001b[0;34m,\u001b[0m \u001b[0;34m**\u001b[0m\u001b[0mself\u001b[0m\u001b[0;34m.\u001b[0m\u001b[0moptions\u001b[0m\u001b[0;34m)\u001b[0m  \u001b[0;31m# type: ignore[call-arg]\u001b[0m\u001b[0;34m\u001b[0m\u001b[0;34m\u001b[0m\u001b[0m\n\u001b[0m\u001b[1;32m   1041\u001b[0m \u001b[0;34m\u001b[0m\u001b[0m\n\u001b[1;32m   1042\u001b[0m     \u001b[0;32mdef\u001b[0m \u001b[0m_failover_to_python\u001b[0m\u001b[0;34m(\u001b[0m\u001b[0mself\u001b[0m\u001b[0;34m)\u001b[0m\u001b[0;34m:\u001b[0m\u001b[0;34m\u001b[0m\u001b[0;34m\u001b[0m\u001b[0m\n",
      "\u001b[0;32m~/opt/anaconda3/lib/python3.9/site-packages/pandas/io/parsers/c_parser_wrapper.py\u001b[0m in \u001b[0;36m__init__\u001b[0;34m(self, src, **kwds)\u001b[0m\n\u001b[1;32m     49\u001b[0m \u001b[0;34m\u001b[0m\u001b[0m\n\u001b[1;32m     50\u001b[0m         \u001b[0;31m# open handles\u001b[0m\u001b[0;34m\u001b[0m\u001b[0;34m\u001b[0m\u001b[0m\n\u001b[0;32m---> 51\u001b[0;31m         \u001b[0mself\u001b[0m\u001b[0;34m.\u001b[0m\u001b[0m_open_handles\u001b[0m\u001b[0;34m(\u001b[0m\u001b[0msrc\u001b[0m\u001b[0;34m,\u001b[0m \u001b[0mkwds\u001b[0m\u001b[0;34m)\u001b[0m\u001b[0;34m\u001b[0m\u001b[0;34m\u001b[0m\u001b[0m\n\u001b[0m\u001b[1;32m     52\u001b[0m         \u001b[0;32massert\u001b[0m \u001b[0mself\u001b[0m\u001b[0;34m.\u001b[0m\u001b[0mhandles\u001b[0m \u001b[0;32mis\u001b[0m \u001b[0;32mnot\u001b[0m \u001b[0;32mNone\u001b[0m\u001b[0;34m\u001b[0m\u001b[0;34m\u001b[0m\u001b[0m\n\u001b[1;32m     53\u001b[0m \u001b[0;34m\u001b[0m\u001b[0m\n",
      "\u001b[0;32m~/opt/anaconda3/lib/python3.9/site-packages/pandas/io/parsers/base_parser.py\u001b[0m in \u001b[0;36m_open_handles\u001b[0;34m(self, src, kwds)\u001b[0m\n\u001b[1;32m    220\u001b[0m         \u001b[0mLet\u001b[0m \u001b[0mthe\u001b[0m \u001b[0mreaders\u001b[0m \u001b[0mopen\u001b[0m \u001b[0mIOHandles\u001b[0m \u001b[0mafter\u001b[0m \u001b[0mthey\u001b[0m \u001b[0mare\u001b[0m \u001b[0mdone\u001b[0m \u001b[0;32mwith\u001b[0m \u001b[0mtheir\u001b[0m \u001b[0mpotential\u001b[0m \u001b[0mraises\u001b[0m\u001b[0;34m.\u001b[0m\u001b[0;34m\u001b[0m\u001b[0;34m\u001b[0m\u001b[0m\n\u001b[1;32m    221\u001b[0m         \"\"\"\n\u001b[0;32m--> 222\u001b[0;31m         self.handles = get_handle(\n\u001b[0m\u001b[1;32m    223\u001b[0m             \u001b[0msrc\u001b[0m\u001b[0;34m,\u001b[0m\u001b[0;34m\u001b[0m\u001b[0;34m\u001b[0m\u001b[0m\n\u001b[1;32m    224\u001b[0m             \u001b[0;34m\"r\"\u001b[0m\u001b[0;34m,\u001b[0m\u001b[0;34m\u001b[0m\u001b[0;34m\u001b[0m\u001b[0m\n",
      "\u001b[0;32m~/opt/anaconda3/lib/python3.9/site-packages/pandas/io/common.py\u001b[0m in \u001b[0;36mget_handle\u001b[0;34m(path_or_buf, mode, encoding, compression, memory_map, is_text, errors, storage_options)\u001b[0m\n\u001b[1;32m    700\u001b[0m         \u001b[0;32mif\u001b[0m \u001b[0mioargs\u001b[0m\u001b[0;34m.\u001b[0m\u001b[0mencoding\u001b[0m \u001b[0;32mand\u001b[0m \u001b[0;34m\"b\"\u001b[0m \u001b[0;32mnot\u001b[0m \u001b[0;32min\u001b[0m \u001b[0mioargs\u001b[0m\u001b[0;34m.\u001b[0m\u001b[0mmode\u001b[0m\u001b[0;34m:\u001b[0m\u001b[0;34m\u001b[0m\u001b[0;34m\u001b[0m\u001b[0m\n\u001b[1;32m    701\u001b[0m             \u001b[0;31m# Encoding\u001b[0m\u001b[0;34m\u001b[0m\u001b[0;34m\u001b[0m\u001b[0m\n\u001b[0;32m--> 702\u001b[0;31m             handle = open(\n\u001b[0m\u001b[1;32m    703\u001b[0m                 \u001b[0mhandle\u001b[0m\u001b[0;34m,\u001b[0m\u001b[0;34m\u001b[0m\u001b[0;34m\u001b[0m\u001b[0m\n\u001b[1;32m    704\u001b[0m                 \u001b[0mioargs\u001b[0m\u001b[0;34m.\u001b[0m\u001b[0mmode\u001b[0m\u001b[0;34m,\u001b[0m\u001b[0;34m\u001b[0m\u001b[0;34m\u001b[0m\u001b[0m\n",
      "\u001b[0;31mFileNotFoundError\u001b[0m: [Errno 2] No such file or directory: 'SparcSSD_GPD_per_hr_data_9_25_2023.csv'"
     ]
    }
   ],
   "source": [
    "\n",
    "all_gpd_data = pd.read_csv(\"SparcSSD_GPD_per_hr_data_9_25_2023.csv\")\n",
    "\n",
    "#get patients with at least 1 hour > 0.8 GPD_burden between 6 and 72 hrs\n",
    "\n",
    "patients_meeting_criteria = []\n",
    "unique_patients = all_gpd_data[\"pat_ID\"].unique()\n",
    "\n",
    "min_time=1\n",
    "max_time=120\n",
    "#min_time = 1\n",
    "#max_time = 120\n",
    "burden_threshold = 0.25\n",
    "\n",
    "for pat in unique_patients:\n",
    "    pat_data = all_gpd_data[all_gpd_data[\"pat_ID\"]==pat]\n",
    "    pat_data2 = pat_data[(pat_data[\"hour\"] >= min_time) & (pat_data[\"hour\"] <=max_time)]\n",
    "    hours_with_min_burden = sum(pat_data2[\"GPD_vec_ct_div_360\"] >= burden_threshold)\n",
    "    if hours_with_min_burden >= 1:\n",
    "        patients_meeting_criteria.append(pat)\n",
    "        \n",
    "patients_meeting_criteria = pd.Series(patients_meeting_criteria)\n",
    "\n",
    "#min_time = 1\n",
    "#max_time= 84\n",
    "\n",
    "#data of patients meeting criteria\n",
    "cohort_gpd_data = all_gpd_data[all_gpd_data[\"pat_ID\"].isin(patients_meeting_criteria)]\n",
    "cohort_gpd_data = cohort_gpd_data[(cohort_gpd_data[\"hour\"] >= min_time) & (cohort_gpd_data[\"hour\"] <= max_time)]\n",
    "\n",
    "cohort_gpd_data = cohort_gpd_data[cohort_gpd_data[\"GPD_vec_ct_div_360\"] >= 0.25]\n",
    "\n",
    "pivotted_BCI = cohort_gpd_data.pivot(columns=[\"hour\"], index='pat_ID', values=\"BCI\").fillna(value=-1)\n",
    "pivotted_BSAR = cohort_gpd_data.pivot(columns=[\"hour\"], index='pat_ID', values=\"BSAR\").fillna(value=-1)"
   ]
  },
  {
   "cell_type": "code",
   "execution_count": 5,
   "id": "a42c1626",
   "metadata": {},
   "outputs": [
    {
     "data": {
      "text/html": [
       "<div>\n",
       "<style scoped>\n",
       "    .dataframe tbody tr th:only-of-type {\n",
       "        vertical-align: middle;\n",
       "    }\n",
       "\n",
       "    .dataframe tbody tr th {\n",
       "        vertical-align: top;\n",
       "    }\n",
       "\n",
       "    .dataframe thead th {\n",
       "        text-align: right;\n",
       "    }\n",
       "</style>\n",
       "<table border=\"1\" class=\"dataframe\">\n",
       "  <thead>\n",
       "    <tr style=\"text-align: right;\">\n",
       "      <th>hour</th>\n",
       "      <th>4</th>\n",
       "      <th>5</th>\n",
       "      <th>6</th>\n",
       "      <th>7</th>\n",
       "      <th>8</th>\n",
       "      <th>9</th>\n",
       "      <th>10</th>\n",
       "      <th>11</th>\n",
       "      <th>12</th>\n",
       "      <th>13</th>\n",
       "      <th>...</th>\n",
       "      <th>111</th>\n",
       "      <th>112</th>\n",
       "      <th>113</th>\n",
       "      <th>114</th>\n",
       "      <th>115</th>\n",
       "      <th>116</th>\n",
       "      <th>117</th>\n",
       "      <th>118</th>\n",
       "      <th>119</th>\n",
       "      <th>120</th>\n",
       "    </tr>\n",
       "    <tr>\n",
       "      <th>pat_ID</th>\n",
       "      <th></th>\n",
       "      <th></th>\n",
       "      <th></th>\n",
       "      <th></th>\n",
       "      <th></th>\n",
       "      <th></th>\n",
       "      <th></th>\n",
       "      <th></th>\n",
       "      <th></th>\n",
       "      <th></th>\n",
       "      <th></th>\n",
       "      <th></th>\n",
       "      <th></th>\n",
       "      <th></th>\n",
       "      <th></th>\n",
       "      <th></th>\n",
       "      <th></th>\n",
       "      <th></th>\n",
       "      <th></th>\n",
       "      <th></th>\n",
       "      <th></th>\n",
       "    </tr>\n",
       "  </thead>\n",
       "  <tbody>\n",
       "    <tr>\n",
       "      <th>ICARE_0004</th>\n",
       "      <td>-1.0</td>\n",
       "      <td>-1.0</td>\n",
       "      <td>-1.0</td>\n",
       "      <td>-1.0</td>\n",
       "      <td>-1.0</td>\n",
       "      <td>-1.0</td>\n",
       "      <td>-1.0</td>\n",
       "      <td>-1.0</td>\n",
       "      <td>-1.0</td>\n",
       "      <td>-1.0</td>\n",
       "      <td>...</td>\n",
       "      <td>-1.0</td>\n",
       "      <td>-1.0</td>\n",
       "      <td>-1.0</td>\n",
       "      <td>-1.0</td>\n",
       "      <td>-1.0</td>\n",
       "      <td>-1.0</td>\n",
       "      <td>-1.0</td>\n",
       "      <td>-1.0</td>\n",
       "      <td>-1.0</td>\n",
       "      <td>-1.0</td>\n",
       "    </tr>\n",
       "    <tr>\n",
       "      <th>ICARE_0009</th>\n",
       "      <td>-1.0</td>\n",
       "      <td>-1.0</td>\n",
       "      <td>-1.0</td>\n",
       "      <td>-1.0</td>\n",
       "      <td>-1.0</td>\n",
       "      <td>-1.0</td>\n",
       "      <td>-1.0</td>\n",
       "      <td>-1.0</td>\n",
       "      <td>-1.0</td>\n",
       "      <td>-1.0</td>\n",
       "      <td>...</td>\n",
       "      <td>-1.0</td>\n",
       "      <td>-1.0</td>\n",
       "      <td>-1.0</td>\n",
       "      <td>-1.0</td>\n",
       "      <td>-1.0</td>\n",
       "      <td>-1.0</td>\n",
       "      <td>-1.0</td>\n",
       "      <td>-1.0</td>\n",
       "      <td>-1.0</td>\n",
       "      <td>-1.0</td>\n",
       "    </tr>\n",
       "    <tr>\n",
       "      <th>ICARE_0013</th>\n",
       "      <td>-1.0</td>\n",
       "      <td>-1.0</td>\n",
       "      <td>-1.0</td>\n",
       "      <td>-1.0</td>\n",
       "      <td>-1.0</td>\n",
       "      <td>-1.0</td>\n",
       "      <td>-1.0</td>\n",
       "      <td>-1.0</td>\n",
       "      <td>-1.0</td>\n",
       "      <td>-1.0</td>\n",
       "      <td>...</td>\n",
       "      <td>-1.0</td>\n",
       "      <td>-1.0</td>\n",
       "      <td>-1.0</td>\n",
       "      <td>-1.0</td>\n",
       "      <td>-1.0</td>\n",
       "      <td>-1.0</td>\n",
       "      <td>-1.0</td>\n",
       "      <td>-1.0</td>\n",
       "      <td>-1.0</td>\n",
       "      <td>-1.0</td>\n",
       "    </tr>\n",
       "    <tr>\n",
       "      <th>ICARE_0018</th>\n",
       "      <td>-1.0</td>\n",
       "      <td>-1.0</td>\n",
       "      <td>-1.0</td>\n",
       "      <td>-1.0</td>\n",
       "      <td>-1.0</td>\n",
       "      <td>-1.0</td>\n",
       "      <td>-1.0</td>\n",
       "      <td>-1.0</td>\n",
       "      <td>-1.0</td>\n",
       "      <td>-1.0</td>\n",
       "      <td>...</td>\n",
       "      <td>-1.0</td>\n",
       "      <td>-1.0</td>\n",
       "      <td>-1.0</td>\n",
       "      <td>-1.0</td>\n",
       "      <td>-1.0</td>\n",
       "      <td>-1.0</td>\n",
       "      <td>-1.0</td>\n",
       "      <td>-1.0</td>\n",
       "      <td>-1.0</td>\n",
       "      <td>-1.0</td>\n",
       "    </tr>\n",
       "    <tr>\n",
       "      <th>ICARE_0025</th>\n",
       "      <td>-1.0</td>\n",
       "      <td>-1.0</td>\n",
       "      <td>-1.0</td>\n",
       "      <td>-1.0</td>\n",
       "      <td>-1.0</td>\n",
       "      <td>-1.0</td>\n",
       "      <td>-1.0</td>\n",
       "      <td>-1.0</td>\n",
       "      <td>-1.0</td>\n",
       "      <td>-1.0</td>\n",
       "      <td>...</td>\n",
       "      <td>-1.0</td>\n",
       "      <td>-1.0</td>\n",
       "      <td>-1.0</td>\n",
       "      <td>-1.0</td>\n",
       "      <td>-1.0</td>\n",
       "      <td>-1.0</td>\n",
       "      <td>-1.0</td>\n",
       "      <td>-1.0</td>\n",
       "      <td>-1.0</td>\n",
       "      <td>-1.0</td>\n",
       "    </tr>\n",
       "  </tbody>\n",
       "</table>\n",
       "<p>5 rows × 117 columns</p>\n",
       "</div>"
      ],
      "text/plain": [
       "hour        4    5    6    7    8    9    10   11   12   13   ...  111  112  \\\n",
       "pat_ID                                                        ...             \n",
       "ICARE_0004 -1.0 -1.0 -1.0 -1.0 -1.0 -1.0 -1.0 -1.0 -1.0 -1.0  ... -1.0 -1.0   \n",
       "ICARE_0009 -1.0 -1.0 -1.0 -1.0 -1.0 -1.0 -1.0 -1.0 -1.0 -1.0  ... -1.0 -1.0   \n",
       "ICARE_0013 -1.0 -1.0 -1.0 -1.0 -1.0 -1.0 -1.0 -1.0 -1.0 -1.0  ... -1.0 -1.0   \n",
       "ICARE_0018 -1.0 -1.0 -1.0 -1.0 -1.0 -1.0 -1.0 -1.0 -1.0 -1.0  ... -1.0 -1.0   \n",
       "ICARE_0025 -1.0 -1.0 -1.0 -1.0 -1.0 -1.0 -1.0 -1.0 -1.0 -1.0  ... -1.0 -1.0   \n",
       "\n",
       "hour        113  114  115  116  117  118  119  120  \n",
       "pat_ID                                              \n",
       "ICARE_0004 -1.0 -1.0 -1.0 -1.0 -1.0 -1.0 -1.0 -1.0  \n",
       "ICARE_0009 -1.0 -1.0 -1.0 -1.0 -1.0 -1.0 -1.0 -1.0  \n",
       "ICARE_0013 -1.0 -1.0 -1.0 -1.0 -1.0 -1.0 -1.0 -1.0  \n",
       "ICARE_0018 -1.0 -1.0 -1.0 -1.0 -1.0 -1.0 -1.0 -1.0  \n",
       "ICARE_0025 -1.0 -1.0 -1.0 -1.0 -1.0 -1.0 -1.0 -1.0  \n",
       "\n",
       "[5 rows x 117 columns]"
      ]
     },
     "execution_count": 5,
     "metadata": {},
     "output_type": "execute_result"
    }
   ],
   "source": [
    "pivotted_BCI.head()"
   ]
  },
  {
   "cell_type": "code",
   "execution_count": 6,
   "id": "27d5a87d-9df8-412b-9c78-fb7293703ba8",
   "metadata": {},
   "outputs": [],
   "source": [
    "# Define the hyperparameters\n",
    "batch_size = 32\n",
    "latent_dim = 2\n",
    "alpha =  1e-6\n",
    "lr= 1e-3\n",
    "min_lr = 5e-6\n",
    "epochs = 500\n",
    "gamma = 0.99\n",
    "weight_decay= 1e-4\n",
    "seq_length = pivotted_BCI.shape[1]"
   ]
  },
  {
   "cell_type": "code",
   "execution_count": null,
   "id": "cdb0b82e",
   "metadata": {},
   "outputs": [],
   "source": []
  },
  {
   "cell_type": "code",
   "execution_count": 15,
   "id": "b0462951-acc7-4dc0-a44b-002fa4e83259",
   "metadata": {},
   "outputs": [
    {
     "name": "stdout",
     "output_type": "stream",
     "text": [
      "torch.Size([150, 1, 117])\n"
     ]
    }
   ],
   "source": [
    "#data = np.swapaxes(np.array([pivotted_BCI.values, pivotted_BSAR.values]), 0, 1)\n",
    "\n",
    "# Split the data into train and test sets\n",
    "train_data, test_data, train_indices, test_indices = train_test_split(pivotted_BCI.values, range(pivotted_BCI.shape[0]), test_size=0.5, random_state=42)\n",
    "\n",
    "\n",
    "#prepare data for training.\n",
    "scaler = MinMaxScaler()\n",
    "train_data=scaler.fit_transform(train_data)\n",
    "test_data=scaler.transform(test_data)\n",
    "\n",
    "\n",
    "# Convert data into tensor\n",
    "train_data = torch.tensor(train_data).float()\n",
    " # Add an extra dimension for the 1D CNN (batch_size, num_channels, seq_length)\n",
    "train_data = train_data.unsqueeze(1)\n",
    "\n",
    "test_data = torch.tensor(test_data).float()\n",
    " # Add an extra dimension for the 1D CNN (batch_size, num_channels, seq_length)\n",
    "test_data = test_data.unsqueeze(1)\n",
    "\n",
    "train_data = train_data.clone().detach().float()\n",
    "test_data = test_data.clone().detach().float()\n",
    "\n",
    "print(train_data.shape)\n",
    "\n",
    "# Prepare DataLoader\n",
    "train_loader = torch.utils.data.DataLoader(train_data, batch_size=batch_size, shuffle=False)\n",
    "test_loader = torch.utils.data.DataLoader(test_data, batch_size=batch_size, shuffle=False)"
   ]
  },
  {
   "cell_type": "markdown",
   "id": "9fa18a55-6fdf-4158-90d8-866d0c63044c",
   "metadata": {},
   "source": [
    "Now we'll define the actual training loop and execute it: "
   ]
  },
  {
   "cell_type": "code",
   "execution_count": 16,
   "id": "3034ccdb-2c22-4d00-9f68-05d20de0d7eb",
   "metadata": {},
   "outputs": [
    {
     "name": "stdout",
     "output_type": "stream",
     "text": [
      "The model has 78,853 parameters\n"
     ]
    },
    {
     "data": {
      "text/plain": [
       "VAE(\n",
       "  (encoder): CNNEncoder(\n",
       "    (encoder): Sequential(\n",
       "      (0): Conv1d(1, 128, kernel_size=(3,), stride=(1,), padding=(1,))\n",
       "      (1): LeakyReLU(negative_slope=0.01)\n",
       "      (2): Conv1d(128, 64, kernel_size=(3,), stride=(1,), padding=(1,))\n",
       "      (3): LeakyReLU(negative_slope=0.01)\n",
       "      (4): Conv1d(64, 32, kernel_size=(3,), stride=(1,), padding=(1,))\n",
       "      (5): LeakyReLU(negative_slope=0.01)\n",
       "      (6): Conv1d(32, 16, kernel_size=(3,), stride=(1,), padding=(1,))\n",
       "      (7): LeakyReLU(negative_slope=0.01)\n",
       "    )\n",
       "    (fc_mean): Linear(in_features=1872, out_features=2, bias=True)\n",
       "    (fc_logvar): Linear(in_features=1872, out_features=2, bias=True)\n",
       "  )\n",
       "  (decoder): CNNDecoder(\n",
       "    (fc): Linear(in_features=2, out_features=1872, bias=True)\n",
       "    (decoder): Sequential(\n",
       "      (0): LeakyReLU(negative_slope=0.01)\n",
       "      (1): ConvTranspose1d(16, 32, kernel_size=(3,), stride=(1,), padding=(1,))\n",
       "      (2): LeakyReLU(negative_slope=0.01)\n",
       "      (3): ConvTranspose1d(32, 64, kernel_size=(3,), stride=(1,), padding=(1,))\n",
       "      (4): LeakyReLU(negative_slope=0.01)\n",
       "      (5): ConvTranspose1d(64, 128, kernel_size=(3,), stride=(1,), padding=(1,))\n",
       "      (6): ConvTranspose1d(128, 1, kernel_size=(3,), stride=(1,), padding=(1,))\n",
       "    )\n",
       "  )\n",
       ")"
      ]
     },
     "execution_count": 16,
     "metadata": {},
     "output_type": "execute_result"
    }
   ],
   "source": [
    "# Model creation, loss function, and optimizer\n",
    "model = VAE(latent_dim=latent_dim)\n",
    "model = model.to(device)\n",
    "print(f'The model has {count_parameters(model):,} parameters')\n",
    "criterion = nn.MSELoss()\n",
    "optimizer = optim.Adam(model.parameters(), lr= lr, weight_decay=weight_decay)\n",
    "\n",
    "# Training loop\n",
    "train_loss_values = []\n",
    "test_loss_values = []\n",
    "\n",
    "# Initialize early stopping parameters\n",
    "best_test_loss = np.inf  # Best test loss so far\n",
    "epochs_no_improve = 0  # Counter for epochs since the test loss last improved\n",
    "patience = 100 # Patience for early stopping\n",
    "\n",
    "model"
   ]
  },
  {
   "cell_type": "code",
   "execution_count": 17,
   "id": "90a25491-dccd-4f30-a9cf-3562aee47df5",
   "metadata": {},
   "outputs": [
    {
     "name": "stdout",
     "output_type": "stream",
     "text": [
      "Epoch: 2 Train: 0.1371777, Test: 0.1365130, Lr:0.00025000\n",
      "Epoch: 4 Train: 0.1313755, Test: 0.1314215, Lr:0.00050000\n",
      "Epoch: 6 Train: 0.1261187, Test: 0.1284214, Lr:0.00075000\n",
      "Epoch: 8 Train: 0.1125315, Test: 0.1036410, Lr:0.00100000\n",
      "Epoch: 10 Train: 0.0933687, Test: 0.0977987, Lr:0.00099000\n",
      "Epoch: 100 Train: 0.0402598, Test: 0.0779505, Lr:0.00040068\n",
      "Early stopping!\n"
     ]
    }
   ],
   "source": [
    "from tqdm.notebook import trange\n",
    "\n",
    "# implements a warmup schedule to start from a small learn rate. \n",
    "warmup_epochs = 8\n",
    "def warmup_scheduler(epoch):\n",
    "    if epoch < warmup_epochs:\n",
    "        return (epoch + 1) / warmup_epochs\n",
    "    else:\n",
    "        return 1.0\n",
    "\n",
    "scheduler1 = torch.optim.lr_scheduler.LambdaLR(optimizer, lr_lambda=warmup_scheduler)\n",
    "scheduler2 = torch.optim.lr_scheduler.ExponentialLR(optimizer, gamma=gamma)\n",
    "\n",
    "\n",
    "for epoch in range(epochs):\n",
    "    train_loss = train(model, train_loader, optimizer, criterion, alpha)\n",
    "    test_loss = test(model, test_loader, criterion)\n",
    "    train_loss_values.append(train_loss)\n",
    "    test_loss_values.append(test_loss)\n",
    "\n",
    "    # Clamp minimum learning rate\n",
    "    for param_group in optimizer.param_groups:\n",
    "        param_group['lr'] = max(param_group['lr'], min_lr)\n",
    "\n",
    "    interval = 2 if epoch < 10 else 100\n",
    "    if (epoch + 1) % interval == 0:\n",
    "        print('Epoch: {} Train: {:.7f}, Test: {:.7f}, Lr:{:.8f}'.format(epoch + 1, train_loss_values[epoch], test_loss_values[epoch], param_group['lr']))\n",
    "    \n",
    "    # Update learning rate\n",
    "    if epoch < warmup_epochs:\n",
    "        scheduler1.step()\n",
    "    else:\n",
    "        scheduler2.step()\n",
    "\n",
    "    # Check for early stopping\n",
    "    if test_loss < best_test_loss:\n",
    "        best_test_loss = test_loss\n",
    "        epochs_no_improve = 0  # Reset the counter\n",
    "    else:\n",
    "        epochs_no_improve += 1  # Increment the counter\n",
    "\n",
    "    if epochs_no_improve == patience:\n",
    "        print('Early stopping!')\n",
    "        break  # Exit the loop\n",
    "\n",
    "# After training, get the latent variables\n",
    "train_latent_vars = get_latent_variables(model, train_loader)\n",
    "test_latent_vars = get_latent_variables(model, test_loader)    "
   ]
  },
  {
   "cell_type": "code",
   "execution_count": 18,
   "id": "98c6861e-20c1-46b1-a114-fdf9cef6ae8b",
   "metadata": {},
   "outputs": [
    {
     "data": {
      "image/png": "[encoded data removed]",
      "text/plain": [
       "<Figure size 1200x600 with 1 Axes>"
      ]
     },
     "metadata": {},
     "output_type": "display_data"
    }
   ],
   "source": [
    "# Plotting the loss values\n",
    "plt.figure(figsize=(12, 6))\n",
    "plt.semilogy(train_loss_values, label='Training')\n",
    "plt.semilogy(test_loss_values, label='Testing')\n",
    "plt.xlabel('Epoch')\n",
    "plt.ylabel('Loss')\n",
    "plt.legend()\n",
    "plt.show()"
   ]
  },
  {
   "cell_type": "code",
   "execution_count": 19,
   "id": "6d93bed0",
   "metadata": {},
   "outputs": [
    {
     "data": {
      "text/plain": [
       "150"
      ]
     },
     "execution_count": 19,
     "metadata": {},
     "output_type": "execute_result"
    }
   ],
   "source": [
    "train_latent_vars.shape[0]"
   ]
  },
  {
   "cell_type": "code",
   "execution_count": 20,
   "id": "31a21d0f",
   "metadata": {},
   "outputs": [
    {
     "data": {
      "text/plain": [
       "150"
      ]
     },
     "execution_count": 20,
     "metadata": {},
     "output_type": "execute_result"
    }
   ],
   "source": [
    "test_latent_vars.shape[0]"
   ]
  },
  {
   "cell_type": "code",
   "execution_count": 21,
   "id": "0147df30",
   "metadata": {},
   "outputs": [],
   "source": [
    "test_pts = pivotted_BCI.index.values[test_indices]\n",
    "train_pts = pivotted_BCI.index.values[train_indices]"
   ]
  },
  {
   "cell_type": "code",
   "execution_count": 22,
   "id": "17a74cc1",
   "metadata": {},
   "outputs": [],
   "source": [
    "physionet_table = pd.read_csv(\"train_test_val_physionet_table.csv\")\n",
    "outcome_dict = dict(zip(physionet_table[\"Patient\"], physionet_table[\"Outcome\"]))"
   ]
  },
  {
   "cell_type": "code",
   "execution_count": 23,
   "id": "8a390ad2",
   "metadata": {},
   "outputs": [],
   "source": [
    "test_outcomes = [outcome_dict[test_pt] for test_pt in test_pts]\n",
    "train_outcomes = [outcome_dict[train_pt] for train_pt in train_pts]"
   ]
  },
  {
   "cell_type": "code",
   "execution_count": 24,
   "id": "f20cf75b",
   "metadata": {},
   "outputs": [],
   "source": [
    "test_vars = pd.DataFrame(test_latent_vars.numpy())\n",
    "test_vars[\"label\"] = test_outcomes\n",
    "\n",
    "\n",
    "train_vars = pd.DataFrame(train_latent_vars.numpy())\n",
    "train_vars[\"label\"] = train_outcomes"
   ]
  },
  {
   "cell_type": "code",
   "execution_count": 25,
   "id": "ee5c2f37",
   "metadata": {},
   "outputs": [],
   "source": [
    "import seaborn as sns"
   ]
  },
  {
   "cell_type": "code",
   "execution_count": 26,
   "id": "8fe14d9e",
   "metadata": {},
   "outputs": [
    {
     "name": "stderr",
     "output_type": "stream",
     "text": [
      "c:\\Users\\vkarukonda\\AppData\\Local\\miniconda3\\envs\\physionet\\lib\\site-packages\\seaborn\\_oldcore.py:1498: FutureWarning: is_categorical_dtype is deprecated and will be removed in a future version. Use isinstance(dtype, CategoricalDtype) instead\n",
      "  if pd.api.types.is_categorical_dtype(vector):\n",
      "c:\\Users\\vkarukonda\\AppData\\Local\\miniconda3\\envs\\physionet\\lib\\site-packages\\seaborn\\_oldcore.py:1498: FutureWarning: is_categorical_dtype is deprecated and will be removed in a future version. Use isinstance(dtype, CategoricalDtype) instead\n",
      "  if pd.api.types.is_categorical_dtype(vector):\n",
      "c:\\Users\\vkarukonda\\AppData\\Local\\miniconda3\\envs\\physionet\\lib\\site-packages\\seaborn\\_oldcore.py:1498: FutureWarning: is_categorical_dtype is deprecated and will be removed in a future version. Use isinstance(dtype, CategoricalDtype) instead\n",
      "  if pd.api.types.is_categorical_dtype(vector):\n",
      "c:\\Users\\vkarukonda\\AppData\\Local\\miniconda3\\envs\\physionet\\lib\\site-packages\\seaborn\\_oldcore.py:1498: FutureWarning: is_categorical_dtype is deprecated and will be removed in a future version. Use isinstance(dtype, CategoricalDtype) instead\n",
      "  if pd.api.types.is_categorical_dtype(vector):\n",
      "c:\\Users\\vkarukonda\\AppData\\Local\\miniconda3\\envs\\physionet\\lib\\site-packages\\seaborn\\_oldcore.py:1498: FutureWarning: is_categorical_dtype is deprecated and will be removed in a future version. Use isinstance(dtype, CategoricalDtype) instead\n",
      "  if pd.api.types.is_categorical_dtype(vector):\n"
     ]
    },
    {
     "data": {
      "text/plain": [
       "<Axes: xlabel='0', ylabel='1'>"
      ]
     },
     "execution_count": 26,
     "metadata": {},
     "output_type": "execute_result"
    },
    {
     "data": {
      "image/png": "[encoded data removed]",
      "text/plain": [
       "<Figure size 640x480 with 1 Axes>"
      ]
     },
     "metadata": {},
     "output_type": "display_data"
    }
   ],
   "source": [
    "sns.scatterplot(x = 0, y = 1, hue = \"label\", data = test_vars)"
   ]
  },
  {
   "cell_type": "code",
   "execution_count": null,
   "id": "7dddd629",
   "metadata": {},
   "outputs": [],
   "source": []
  }
 ],
 "metadata": {
  "kernelspec": {
   "display_name": "Python 3 (ipykernel)",
   "language": "python",
   "name": "python3"
  },
  "language_info": {
   "codemirror_mode": {
    "name": "ipython",
    "version": 3
   },
   "file_extension": ".py",
   "mimetype": "text/x-python",
   "name": "python",
   "nbconvert_exporter": "python",
   "pygments_lexer": "ipython3",
   "version": "3.9.7"
  }
 },
 "nbformat": 4,
 "nbformat_minor": 5
}
